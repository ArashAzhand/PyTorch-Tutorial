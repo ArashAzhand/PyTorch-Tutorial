{
 "cells": [
  {
   "cell_type": "markdown",
   "id": "360ca8a0-54ff-413c-94ca-c87cfac9c4bd",
   "metadata": {},
   "source": [
    "<div class=\"alert alert-success\">\n",
    "    <h1>Session 1: Basic PyTorch Tutorial</h1>\n",
    "    <h3 align='center'>Computational Intelligence (4032-01)</h3>\n",
    "    <h5 align='center'>Instructor: Dr.Samane Hosseini</h5>\n",
    "    <h5 align='center'>TA: Arash Azhand</h5>\n",
    "</div>"
   ]
  },
  {
   "cell_type": "markdown",
   "id": "a846db5c-aa7d-4b81-98bb-8307baa73593",
   "metadata": {},
   "source": [
    "# PyTorch Basics Tutorial\n",
    "\n",
    "This tutorial covers:\n",
    "1. Tensors in PyTorch\n",
    "2. Automatic Differentiation\n",
    "3. Neural Network Basics\n",
    "4. Dataset and Dataloader\n",
    "5. Training a Simple Neural Network\n",
    "6. Evaluating the Model\n",
    "7. Saving and Loading Models\n",
    "8. GPU Acceleration\n",
    "9. Custom Datasets\n",
    "Conclusion"
   ]
  },
  {
   "cell_type": "code",
   "execution_count": 1,
   "id": "9634a6d3-93ed-46f3-bf87-edb309da9cc2",
   "metadata": {},
   "outputs": [],
   "source": [
    "import torch\n",
    "import torch.nn as nn\n",
    "import torch.optim as optim\n",
    "import torch.nn.functional as F\n",
    "from torch.utils.data import DataLoader, TensorDataset, Dataset\n",
    "import numpy as np\n",
    "import matplotlib.pyplot as plt"
   ]
  },
  {
   "cell_type": "markdown",
   "id": "e3b1b427-2eaa-4770-94d3-989f68faade2",
   "metadata": {},
   "source": [
    "# 1. Tensors in PyTorch\n",
    "**Tensors are the fundamental data structure in PyTorch, similar to NumPy arrays but with GPU support.**"
   ]
  },
  {
   "cell_type": "code",
   "execution_count": 2,
   "id": "92f49818-ee13-4b4a-abe5-14eacaef5f7a",
   "metadata": {},
   "outputs": [
    {
     "name": "stdout",
     "output_type": "stream",
     "text": [
      "Tensor A: tensor([1., 2., 3.])\n"
     ]
    }
   ],
   "source": [
    "tensor_a = torch.tensor([1, 2, 3], dtype=torch.float32)  # Creating a tensor\n",
    "print(\"Tensor A:\", tensor_a)"
   ]
  },
  {
   "cell_type": "code",
   "execution_count": 3,
   "id": "8ef864e9-a646-4d56-9619-36be4e36182c",
   "metadata": {},
   "outputs": [
    {
     "name": "stdout",
     "output_type": "stream",
     "text": [
      "Tensor Sum: tensor([5., 7., 9.])\n"
     ]
    }
   ],
   "source": [
    "# Operations on tensors\n",
    "tensor_b = torch.tensor([4, 5, 6], dtype=torch.float32)\n",
    "tensor_sum = tensor_a + tensor_b  # Element-wise addition\n",
    "print(\"Tensor Sum:\", tensor_sum)"
   ]
  },
  {
   "cell_type": "code",
   "execution_count": 4,
   "id": "ac37367f-95c5-48d5-9631-3eb019322320",
   "metadata": {},
   "outputs": [
    {
     "name": "stdout",
     "output_type": "stream",
     "text": [
      "Random Tensor: tensor([[0.8060, 0.9662, 0.3760],\n",
      "        [0.2699, 0.2057, 0.2360],\n",
      "        [0.4044, 0.3408, 0.4271]])\n"
     ]
    }
   ],
   "source": [
    "tensor_c = torch.rand((3, 3))  # Random tensor\n",
    "print(\"Random Tensor:\", tensor_c)"
   ]
  },
  {
   "cell_type": "code",
   "execution_count": 5,
   "id": "55d84731-76a7-428b-a309-51fca604fc03",
   "metadata": {},
   "outputs": [
    {
     "name": "stdout",
     "output_type": "stream",
     "text": [
      "Reshaped Tensor: tensor([[0.8060, 0.9662, 0.3760, 0.2699, 0.2057, 0.2360, 0.4044, 0.3408, 0.4271]])\n"
     ]
    }
   ],
   "source": [
    "# Reshaping tensors\n",
    "tensor_reshaped = tensor_c.view(1, 9)  # Reshape to 1 row, 9 columns\n",
    "print(\"Reshaped Tensor:\", tensor_reshaped)"
   ]
  },
  {
   "cell_type": "code",
   "execution_count": 6,
   "id": "8c231e93-9e54-4353-897a-cdb4d12a076d",
   "metadata": {},
   "outputs": [
    {
     "name": "stdout",
     "output_type": "stream",
     "text": [
      "Matrix Multiplication Result: tensor([[0.2795, 0.7298, 0.9133],\n",
      "        [0.4123, 0.7092, 0.6409],\n",
      "        [0.7564, 1.2861, 1.2675]])\n"
     ]
    }
   ],
   "source": [
    "# Tensor operations like matrix multiplication\n",
    "tensor_d = torch.rand((3, 3))\n",
    "tensor_e = torch.rand((3, 3))\n",
    "tensor_matmul = torch.matmul(tensor_d, tensor_e)\n",
    "print(\"Matrix Multiplication Result:\", tensor_matmul)"
   ]
  },
  {
   "cell_type": "markdown",
   "id": "b69bcded-789f-4d51-b665-c9a452828a2f",
   "metadata": {},
   "source": [
    "# 2. Automatic Differentiation\n",
    "**PyTorch uses automatic differentiation to compute gradients, which is essential for training neural networks**"
   ]
  },
  {
   "cell_type": "code",
   "execution_count": 7,
   "id": "6597d924-2cdc-4978-8a7a-f71d3c79c8b0",
   "metadata": {},
   "outputs": [
    {
     "name": "stdout",
     "output_type": "stream",
     "text": [
      "Gradients: tensor([10., 10., 10.])\n"
     ]
    }
   ],
   "source": [
    "x = torch.randn(3, requires_grad=True)  # Track computation for automatic differentiation\n",
    "y = x * 10\n",
    "y = y.sum()\n",
    "y.backward()  # Compute gradients\n",
    "print(\"Gradients:\", x.grad)"
   ]
  },
  {
   "cell_type": "markdown",
   "id": "69676238-45d1-4f2d-9fe4-eee72a23e231",
   "metadata": {},
   "source": [
    "Here, `x.grad` stores the gradient of `y` with respect to `x`."
   ]
  },
  {
   "cell_type": "code",
   "execution_count": 8,
   "id": "20b5746e-a74a-4dee-b23f-f708d7ebd6f9",
   "metadata": {},
   "outputs": [
    {
     "data": {
      "text/plain": [
       "tensor([0., 0., 0.])"
      ]
     },
     "execution_count": 8,
     "metadata": {},
     "output_type": "execute_result"
    }
   ],
   "source": [
    "# Clearing gradients (important in training loops)\n",
    "x.grad.zero_()"
   ]
  },
  {
   "cell_type": "markdown",
   "id": "7621582f-c7d2-4550-a5a8-f651f8222621",
   "metadata": {},
   "source": [
    "# 3. Neural Network Basics\n",
    "**PyTorch provides the `nn.Module` class to define neural networks.**"
   ]
  },
  {
   "cell_type": "code",
   "execution_count": 9,
   "id": "f7953faf-9d0f-4b2c-85c6-fa6e208fb449",
   "metadata": {},
   "outputs": [
    {
     "name": "stdout",
     "output_type": "stream",
     "text": [
      "Neural Network Model: SimpleNN(\n",
      "  (fc1): Linear(in_features=2, out_features=4, bias=True)\n",
      "  (fc2): Linear(in_features=4, out_features=1, bias=True)\n",
      ")\n"
     ]
    }
   ],
   "source": [
    "class SimpleNN(nn.Module):\n",
    "    def __init__(self):\n",
    "        super(SimpleNN, self).__init__()\n",
    "        self.fc1 = nn.Linear(2, 4)  # Fully connected layer with 2 inputs and 4 outputs\n",
    "        self.fc2 = nn.Linear(4, 1)  # Fully connected layer with 4 inputs and 1 output\n",
    "    \n",
    "    def forward(self, x):\n",
    "        x = F.relu(self.fc1(x))  # Apply ReLU activation function\n",
    "        x = self.fc2(x)\n",
    "        return x\n",
    "\n",
    "model = SimpleNN()\n",
    "print(\"Neural Network Model:\", model)"
   ]
  },
  {
   "cell_type": "markdown",
   "id": "3c9671f9-fa16-473f-b600-854a19a54694",
   "metadata": {},
   "source": [
    "# 4. Dataset and Dataloader\n",
    "**PyTorch provides `Dataset` and `DataLoader` classes to handle data loading and batching.**"
   ]
  },
  {
   "cell_type": "code",
   "execution_count": 10,
   "id": "0348f0b5-a8f4-4c04-8a61-a6c1f04cb688",
   "metadata": {},
   "outputs": [],
   "source": [
    "X_train = torch.rand((100, 2))  # 100 samples, 2 features\n",
    "y_train = torch.rand((100, 1))  # 100 labels\n",
    "train_dataset = TensorDataset(X_train, y_train)\n",
    "train_loader = DataLoader(train_dataset, batch_size=10, shuffle=True)"
   ]
  },
  {
   "cell_type": "code",
   "execution_count": 11,
   "id": "e9c10066-4971-4449-a3b8-cd934a75e53d",
   "metadata": {},
   "outputs": [],
   "source": [
    "# Custom Dataset Example\n",
    "# NOTE: We mostly use this when our data is not in the form of tensors (eg., images, text, speech, etc.).\n",
    "class CustomDataset(Dataset):\n",
    "    def __init__(self, data, labels):\n",
    "        self.data = data\n",
    "        self.labels = labels\n",
    "    \n",
    "    def __len__(self):\n",
    "        return len(self.data)\n",
    "    \n",
    "    def __getitem__(self, idx):\n",
    "        return self.data[idx], self.labels[idx]\n",
    "\n",
    "custom_dataset = CustomDataset(X_train, y_train)\n",
    "custom_loader = DataLoader(custom_dataset, batch_size=10, shuffle=True)"
   ]
  },
  {
   "cell_type": "markdown",
   "id": "2dc6597c-4824-4b44-b860-98264ebeddb3",
   "metadata": {},
   "source": [
    "# 5. Training a Simple Neural Network\n",
    "**Training involves forward pass, loss computation, backward pass, and optimization.**"
   ]
  },
  {
   "cell_type": "code",
   "execution_count": 12,
   "id": "24d816d6-98be-4b4d-8868-16d9ccb18641",
   "metadata": {},
   "outputs": [],
   "source": [
    "criterion = nn.MSELoss()  # Mean Squared Error Loss\n",
    "optimizer = optim.Adam(model.parameters(), lr=0.01)  # Adam optimizer"
   ]
  },
  {
   "cell_type": "code",
   "execution_count": 13,
   "id": "a499010f-e59c-4c2e-bab3-ccadb70cbf54",
   "metadata": {},
   "outputs": [
    {
     "name": "stdout",
     "output_type": "stream",
     "text": [
      "Epoch 1, Loss: 0.3090\n",
      "Epoch 2, Loss: 0.1247\n",
      "Epoch 3, Loss: 0.0934\n",
      "Epoch 4, Loss: 0.0870\n",
      "Epoch 5, Loss: 0.0891\n",
      "Epoch 6, Loss: 0.0857\n",
      "Epoch 7, Loss: 0.0841\n",
      "Epoch 8, Loss: 0.0856\n",
      "Epoch 9, Loss: 0.0824\n",
      "Epoch 10, Loss: 0.0823\n"
     ]
    }
   ],
   "source": [
    "epochs = 10\n",
    "for epoch in range(epochs):\n",
    "    model.train()  # Set model to training mode\n",
    "    total_loss = 0\n",
    "    for batch in train_loader:\n",
    "        inputs, labels = batch\n",
    "        optimizer.zero_grad()  # Clear gradients\n",
    "        outputs = model(inputs)  # Forward pass\n",
    "        loss = criterion(outputs, labels)  # Compute loss\n",
    "        loss.backward()  # Backward pass\n",
    "        optimizer.step()  # Update weights\n",
    "        total_loss += loss.item()\n",
    "    print(f\"Epoch {epoch+1}, Loss: {total_loss / len(train_loader):.4f}\")"
   ]
  },
  {
   "cell_type": "markdown",
   "id": "3cf83d77-5fc5-44c8-87c1-30818de420f3",
   "metadata": {},
   "source": [
    "# 6. Evaluating the Model\n",
    "**Evaluation involves running the model on validation/test data without updating weights.**"
   ]
  },
  {
   "cell_type": "code",
   "execution_count": 14,
   "id": "45529968-3c0d-4ab6-a096-6955aef263d4",
   "metadata": {},
   "outputs": [
    {
     "name": "stdout",
     "output_type": "stream",
     "text": [
      "Evaluation Loss: 0.0819\n"
     ]
    }
   ],
   "source": [
    "def evaluate(model, data_loader):\n",
    "    model.eval()  # Set model to evaluation mode\n",
    "    total_loss = 0\n",
    "    with torch.no_grad():  # Disable gradient computation\n",
    "        for inputs, labels in data_loader:\n",
    "            outputs = model(inputs)\n",
    "            loss = criterion(outputs, labels)\n",
    "            total_loss += loss.item()\n",
    "    print(f\"Evaluation Loss: {total_loss / len(data_loader):.4f}\")\n",
    "\n",
    "evaluate(model, train_loader)"
   ]
  },
  {
   "cell_type": "markdown",
   "id": "f58323e6-5f5b-4156-9c4a-789863c2e7ec",
   "metadata": {},
   "source": [
    "# 7. Saving and Loading Models\n",
    "**Save model state**"
   ]
  },
  {
   "cell_type": "code",
   "execution_count": 15,
   "id": "c1e1b72d-bed8-4897-81c1-e45e9b9405ae",
   "metadata": {},
   "outputs": [
    {
     "name": "stdout",
     "output_type": "stream",
     "text": [
      "Model saved.\n"
     ]
    }
   ],
   "source": [
    "torch.save(model.state_dict(), \"simple_nn.pth\")\n",
    "print(\"Model saved.\")"
   ]
  },
  {
   "cell_type": "code",
   "execution_count": 16,
   "id": "b983a55c-a7c7-455b-8e2c-3b41f51b7772",
   "metadata": {},
   "outputs": [
    {
     "name": "stdout",
     "output_type": "stream",
     "text": [
      "Model loaded successfully.\n"
     ]
    },
    {
     "name": "stderr",
     "output_type": "stream",
     "text": [
      "C:\\Users\\arash\\AppData\\Local\\Temp\\ipykernel_40772\\1852773834.py:3: FutureWarning: You are using `torch.load` with `weights_only=False` (the current default value), which uses the default pickle module implicitly. It is possible to construct malicious pickle data which will execute arbitrary code during unpickling (See https://github.com/pytorch/pytorch/blob/main/SECURITY.md#untrusted-models for more details). In a future release, the default value for `weights_only` will be flipped to `True`. This limits the functions that could be executed during unpickling. Arbitrary objects will no longer be allowed to be loaded via this mode unless they are explicitly allowlisted by the user via `torch.serialization.add_safe_globals`. We recommend you start setting `weights_only=True` for any use case where you don't have full control of the loaded file. Please open an issue on GitHub for any issues related to this experimental feature.\n",
      "  loaded_model.load_state_dict(torch.load(\"simple_nn.pth\"))\n"
     ]
    }
   ],
   "source": [
    "# Load model state\n",
    "loaded_model = SimpleNN()\n",
    "loaded_model.load_state_dict(torch.load(\"simple_nn.pth\"))\n",
    "print(\"Model loaded successfully.\")"
   ]
  },
  {
   "cell_type": "markdown",
   "id": "309d2701-99c0-4b2c-8bc0-61d3e025804b",
   "metadata": {},
   "source": [
    "# 8. GPU Acceleration\n",
    "**PyTorch allows you to move tensors and models to GPU for faster computation.**"
   ]
  },
  {
   "cell_type": "code",
   "execution_count": 17,
   "id": "1e32ac4a-033c-403b-8e0d-6cc8244517b0",
   "metadata": {},
   "outputs": [
    {
     "name": "stdout",
     "output_type": "stream",
     "text": [
      "Using device: cuda\n"
     ]
    }
   ],
   "source": [
    "device = torch.device(\"cuda\" if torch.cuda.is_available() else \"cpu\")\n",
    "print(f\"Using device: {device}\")"
   ]
  },
  {
   "cell_type": "code",
   "execution_count": 18,
   "id": "284b09d9-e412-4ea7-846b-89ffd12b5fbc",
   "metadata": {},
   "outputs": [],
   "source": [
    "# Move model and data to GPU\n",
    "model.to(device)\n",
    "X_train_gpu = X_train.to(device)\n",
    "y_train_gpu = y_train.to(device)"
   ]
  },
  {
   "cell_type": "markdown",
   "id": "2c10b8fb-b736-45b8-b781-1320c442b534",
   "metadata": {},
   "source": [
    "# 9. Custom Datasets and Data Augmentation\n",
    "**PyTorch allows you to create custom datasets and apply data augmentation.**"
   ]
  },
  {
   "cell_type": "code",
   "execution_count": 19,
   "id": "98f3377a-4140-4c0d-9d7a-d21ec98cba40",
   "metadata": {},
   "outputs": [],
   "source": [
    "from torchvision import transforms\n",
    "\n",
    "# Example of data augmentation using torchvision transforms\n",
    "transform = transforms.Compose([\n",
    "    transforms.ToTensor(),\n",
    "    transforms.Normalize((0.5,), (0.5,))  # Normalize data\n",
    "])"
   ]
  },
  {
   "cell_type": "markdown",
   "id": "687f54a4-f050-44d3-96b4-137a1987d581",
   "metadata": {},
   "source": [
    "# Conclusion\n",
    "### PyTorch is a powerful and flexible framework for deep learning. This tutorial covers the basics, but there's much more to explore, including advanced architectures, distributed training, and more."
   ]
  },
  {
   "cell_type": "code",
   "execution_count": null,
   "id": "aa783f0e-64d1-4f1e-982d-07f262ccd477",
   "metadata": {},
   "outputs": [],
   "source": []
  }
 ],
 "metadata": {
  "kernelspec": {
   "display_name": "Python 3 (ipykernel)",
   "language": "python",
   "name": "python3"
  },
  "language_info": {
   "codemirror_mode": {
    "name": "ipython",
    "version": 3
   },
   "file_extension": ".py",
   "mimetype": "text/x-python",
   "name": "python",
   "nbconvert_exporter": "python",
   "pygments_lexer": "ipython3",
   "version": "3.9.0"
  }
 },
 "nbformat": 4,
 "nbformat_minor": 5
}
